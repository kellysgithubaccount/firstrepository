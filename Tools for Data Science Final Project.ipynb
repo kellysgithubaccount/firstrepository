{
  "metadata": {
    "language_info": {
      "codemirror_mode": {
        "name": "python",
        "version": 3
      },
      "file_extension": ".py",
      "mimetype": "text/x-python",
      "name": "python",
      "nbconvert_exporter": "python",
      "pygments_lexer": "ipython3",
      "version": "3.8"
    },
    "kernelspec": {
      "name": "python",
      "display_name": "Python (Pyodide)",
      "language": "python"
    }
  },
  "nbformat_minor": 4,
  "nbformat": 4,
  "cells": [
    {
      "cell_type": "markdown",
      "source": "# Execute it as a markdown cell\n\n",
      "metadata": {}
    },
    {
      "cell_type": "markdown",
      "source": "## Tools for Data Science Final Project \n This is the introduction for my final project. \n",
      "metadata": {}
    },
    {
      "cell_type": "markdown",
      "source": "Some data science languages are: \n+ Python \n+ R\n+ SQL",
      "metadata": {
        "tags": []
      }
    },
    {
      "cell_type": "code",
      "source": "",
      "metadata": {},
      "execution_count": null,
      "outputs": []
    },
    {
      "cell_type": "markdown",
      "source": "Some data science libraries are \n- Pandas\n- NumPy\n- TensorFlow ",
      "metadata": {}
    },
    {
      "cell_type": "markdown",
      "source": "| Most used Data science tools | | Source, open or closed? |\n-----------------------------------------\n| SAS | ---------- | Closed |\n\n| Apache Spark | -------- | Open |\n\n| MATLAB | ---------- | Closed |",
      "metadata": {}
    },
    {
      "cell_type": "markdown",
      "source": "# Arithmetic expression examples\n\n",
      "metadata": {}
    },
    {
      "cell_type": "code",
      "source": "# Addition \n2+2",
      "metadata": {
        "trusted": true
      },
      "execution_count": 5,
      "outputs": [
        {
          "execution_count": 5,
          "output_type": "execute_result",
          "data": {
            "text/plain": "4"
          },
          "metadata": {}
        }
      ]
    },
    {
      "cell_type": "code",
      "source": "# Multiplication and addition\n2*2+4",
      "metadata": {
        "trusted": true
      },
      "execution_count": 6,
      "outputs": [
        {
          "execution_count": 6,
          "output_type": "execute_result",
          "data": {
            "text/plain": "8"
          },
          "metadata": {}
        }
      ]
    },
    {
      "cell_type": "code",
      "source": "minutes = 204\nprint(\"%02d:%02d\" % (divmod(minutes, 60)))\n",
      "metadata": {
        "trusted": true
      },
      "execution_count": 7,
      "outputs": [
        {
          "name": "stdout",
          "text": "03:24\n",
          "output_type": "stream"
        }
      ]
    },
    {
      "cell_type": "markdown",
      "source": "# *OBJECTIVES*\n- Finish this certificate\n- Start practicing my new learned skills",
      "metadata": {}
    },
    {
      "cell_type": "markdown",
      "source": "# The author for this notebook is *Kelly*",
      "metadata": {}
    },
    {
      "cell_type": "code",
      "source": "",
      "metadata": {},
      "execution_count": null,
      "outputs": []
    }
  ]
}